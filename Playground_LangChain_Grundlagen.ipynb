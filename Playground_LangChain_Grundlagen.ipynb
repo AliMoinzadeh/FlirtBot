{
 "cells": [
  {
   "cell_type": "markdown",
   "metadata": {},
   "source": [
    "#### Mimimaler Code für den Aufruf eines OpenAI Models:"
   ]
  },
  {
   "cell_type": "code",
   "execution_count": null,
   "metadata": {},
   "outputs": [],
   "source": [
    "import os\n",
    "import openai\n",
    "import dotenv\n",
    "from langchain_openai import ChatOpenAI\n",
    "\n",
    "# Laden der Umgebungsvariablen\n",
    "dotenv.load_dotenv(\".env\")\n",
    "# Initialisieren der API-Key\n",
    "openai.api_key = os.getenv(\"OPENAI_API_KEY\")\n",
    "\n",
    "# Initialisieren des Sprachmodells\n",
    "llm = ChatOpenAI(model=\"gpt-4o\", temperature=0)\n",
    "\n",
    "# Aufruf des Models\n",
    "response = llm.invoke(\"how can you help me?\")\n",
    "print(response)"
   ]
  },
  {
   "cell_type": "markdown",
   "metadata": {},
   "source": [
    "#### Antwort von Model mit einigen Metadaten:\n",
    "``` json\n",
    "content=\"As an AI developed by OpenAI, I can assist you in various ways such as answering questions, providing information, setting reminders, sending messages, making appointments, playing music, telling jokes, and much more. I can also help with tasks related to education, business, and entertainment. However, please note that I don't have access to personal data unless it is shared with me in the course of our conversation. I am designed to respect user privacy and confidentiality.\" \n",
    "response_metadata={\n",
    "    'token_usage': {\n",
    "        'completion_tokens': 93, \n",
    "        'prompt_tokens': 13, \n",
    "        'total_tokens': 106\n",
    "    }, \n",
    "    'model_name': 'gpt-4', \n",
    "    'system_fingerprint': None, \n",
    "    'finish_reason': 'stop', \n",
    "    'logprobs': None\n",
    "} \n",
    "id='run-80430ff1-5c28-49c4-9681-fc1697b05b7a-0'\n",
    "```"
   ]
  },
  {
   "cell_type": "markdown",
   "metadata": {},
   "source": [
    "#### Ein OutputParser verarbeitet die Antwort weiter um direkt an den eigentlichen Text zu bekommen.\n",
    "Hier sieht man eine schöne Sache in der LangChain Bibliothek, vieles kann verkettet werden um Operationen hintereinander anzuwenden."
   ]
  },
  {
   "cell_type": "code",
   "execution_count": null,
   "metadata": {},
   "outputs": [],
   "source": [
    "from langchain_core.output_parsers import StrOutputParser\n",
    "\n",
    "output_parser = StrOutputParser()\n",
    "chain = llm | output_parser\n",
    "\n",
    "response = chain.invoke(\"how can you help me?\")\n",
    "print(response)"
   ]
  },
  {
   "cell_type": "markdown",
   "metadata": {},
   "source": [
    "#### Neue Antwort:\n",
    "```text\n",
    "\"As an AI, I can assist you in various ways such as answering questions, setting reminders, providing information, helping with tasks, teaching, translating languages, reading text aloud, and much more. I can also provide entertainment like telling jokes or stories. However, my capabilities depend on the platform I'm being used on.\"\n",
    "```"
   ]
  },
  {
   "cell_type": "markdown",
   "metadata": {},
   "source": [
    "#### Wie kann ich bestimmen wie sich mein Model verhalten soll?\n",
    "Mit einem *Prompt Template*, in dem sowohl das *System* beschrieben wird und die Eingabe vom *Benutzer* mit geliefert wird."
   ]
  },
  {
   "cell_type": "code",
   "execution_count": null,
   "metadata": {},
   "outputs": [],
   "source": [
    "from langchain_core.prompts import ChatPromptTemplate\n",
    "\n",
    "prompt = ChatPromptTemplate.from_messages([\n",
    "    (\"system\", \"You are a world class technical documentation writer.\"),\n",
    "    (\"user\", \"{input}\")\n",
    "])\n",
    "\n",
    "chain = prompt | llm | output_parser\n",
    "\n",
    "chain.invoke({\"input\": \"how can you help me?\"})"
   ]
  },
  {
   "cell_type": "markdown",
   "metadata": {},
   "source": [
    "#### Und schon sieht die Antwort ganz anders aus:\n",
    "\n",
    "As a world-class technical documentation writer, I can assist you in various ways:\n",
    "1. **Creating User Manuals**: I can write comprehensive, easy-to-understand user manuals for your products or services. This will help your customers understand how to use your product effectively and efficiently.\n",
    "2. **Developing Technical Guides**: If you have complex technical products or services, I can create detailed guides that explain how they work. This can be useful for both your team and your customers.\n",
    "3. **Writing API Documentation**: If you're a software company, I can write clear and concise API documentation. This will help other developers understand how to use your API to build their own applications.\n",
    "4. **Creating Training Materials**: I can develop training materials for your team. This can help them understand new technologies or processes, improving their skills and productivity.\n",
    "5. **Improving Existing Documentation**: If you already have technical documentation but it's outdated or not up to standard, I can revise and improve it. This will ensure that your documentation is always accurate and up-to-date.\n",
    "6. **Translating Technical Jargon**: I can translate complex technical jargon into simple, easy-to-understand language. This can make your products or services more accessible to non-technical users.\n",
    "7. **Ensuring Compliance**: I can ensure that your documentation meets any necessary industry standards or regulations. This can help you avoid legal issues and maintain a strong reputation in your industry.\n"
   ]
  }
 ],
 "metadata": {
  "kernelspec": {
   "display_name": "Python 3",
   "language": "python",
   "name": "python3"
  },
  "language_info": {
   "codemirror_mode": {
    "name": "ipython",
    "version": 3
   },
   "file_extension": ".py",
   "mimetype": "text/x-python",
   "name": "python",
   "nbconvert_exporter": "python",
   "pygments_lexer": "ipython3",
   "version": "3.11.1"
  }
 },
 "nbformat": 4,
 "nbformat_minor": 2
}
